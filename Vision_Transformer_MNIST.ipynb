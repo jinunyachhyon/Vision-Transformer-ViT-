{
  "nbformat": 4,
  "nbformat_minor": 0,
  "metadata": {
    "colab": {
      "provenance": [],
      "gpuType": "T4",
      "authorship_tag": "ABX9TyOTMZaE8VDaMOKjzPYT/asF",
      "include_colab_link": true
    },
    "kernelspec": {
      "name": "python3",
      "display_name": "Python 3"
    },
    "language_info": {
      "name": "python"
    },
    "accelerator": "GPU"
  },
  "cells": [
    {
      "cell_type": "markdown",
      "metadata": {
        "id": "view-in-github",
        "colab_type": "text"
      },
      "source": [
        "<a href=\"https://colab.research.google.com/github/jinunyachhyon/Vision-Transformer-ViT-/blob/main/Vision_Transformer_MNIST.ipynb\" target=\"_parent\"><img src=\"https://colab.research.google.com/assets/colab-badge.svg\" alt=\"Open In Colab\"/></a>"
      ]
    },
    {
      "cell_type": "markdown",
      "source": [
        "# Imports and Hyperparameter Definitions"
      ],
      "metadata": {
        "id": "OUPPopJ__hBa"
      }
    },
    {
      "cell_type": "code",
      "execution_count": 1,
      "metadata": {
        "id": "P1iyGxAt_UHd"
      },
      "outputs": [],
      "source": [
        "import torch\n",
        "from torch import nn"
      ]
    },
    {
      "cell_type": "code",
      "source": [
        "import pandas as pd\n",
        "from torchvision import datasets, transforms\n",
        "from torch.utils.data import DataLoader, Dataset\n",
        "from sklearn.model_selection import train_test_split"
      ],
      "metadata": {
        "id": "I3-lkCGJGzVf"
      },
      "execution_count": 2,
      "outputs": []
    },
    {
      "cell_type": "code",
      "source": [
        "import random\n",
        "import timeit\n",
        "from tqdm import tqdm\n",
        "from torch import optim"
      ],
      "metadata": {
        "id": "2hF0v1jRHFYj"
      },
      "execution_count": 3,
      "outputs": []
    },
    {
      "cell_type": "code",
      "source": [
        "import matplotlib.pyplot as plt\n",
        "import numpy as np"
      ],
      "metadata": {
        "id": "T4ubXwq4HZWf"
      },
      "execution_count": 4,
      "outputs": []
    },
    {
      "cell_type": "code",
      "source": [
        "LEARNING_RATE = 1e-4\n",
        "NUM_CLASSES = 10                              # For MNIST dataset classes 0 to 9\n",
        "PATCH_SIZE = 4                                # Each Patch = (4 x 4 x no. of channels)\n",
        "IMG_SIZE = 28                                 # Each Image = (28 x 28 x 1)\n",
        "IN_CHANNELS = 1                               # For the MNIST dataset, it is black and white, so only 1 channel\n",
        "NUM_HEADS = 8                                 # For Multi-head attention, 8 heads: Each head dim = EMBED_DIM/NUM_HEADS\n",
        "DROPOUT = 0.001\n",
        "HIDDEN_DIM = 768                              # For feed-forward network\n",
        "ADAM_WEIGHT_DECAY = 0\n",
        "ADAM_BETAS = (0.9, 0.999)\n",
        "ACTIVATION = \"gelu\"\n",
        "NUM_ENCODERS = 4                              # Stacking 4 transformer encoders\n",
        "EMBED_DIM = (PATCH_SIZE ** 2) * IN_CHANNELS   # 16 -- Patch Embedding (4x4x16)\n",
        "NUM_PATCHES = (IMG_SIZE // PATCH_SIZE) ** 2   # 49\n",
        "\n",
        "device = \"cuda\" if torch.cuda.is_available() else \"cpu\""
      ],
      "metadata": {
        "id": "K3QB1unP_4I7"
      },
      "execution_count": 5,
      "outputs": []
    },
    {
      "cell_type": "code",
      "source": [
        "RANDOM_SEED = 42\n",
        "BATCH_SIZE = 512\n",
        "EPOCHS = 40\n",
        "\n",
        "random.seed(RANDOM_SEED)\n",
        "np.random.seed(RANDOM_SEED)\n",
        "torch.manual_seed(RANDOM_SEED)\n",
        "torch.cuda.manual_seed(RANDOM_SEED)\n",
        "torch.cuda.manual_seed_all(RANDOM_SEED)\n",
        "torch.backends.cudnn.deterministic = True\n",
        "torch.backends.cudnn.benchmark = False"
      ],
      "metadata": {
        "id": "j-tlWF6jM54I"
      },
      "execution_count": 6,
      "outputs": []
    },
    {
      "cell_type": "markdown",
      "source": [
        "# ViT Model (BareBone Initialization)"
      ],
      "metadata": {
        "id": "WGhQl39LGYAV"
      }
    },
    {
      "cell_type": "markdown",
      "source": [
        "## Patch Embedding Implementation"
      ],
      "metadata": {
        "id": "7yE0-CQcDVU2"
      }
    },
    {
      "cell_type": "markdown",
      "source": [
        "### How the Original ViT Works (Without Conv2D):\n",
        "\n",
        "In the original Vision Transformer paper:\n",
        "1. The input image is **224x224x3** (RGB).\n",
        "2. The image is divided into non-overlapping **16x16 patches**, so there are **14x14 = 196 patches** in total.\n",
        "3. Each **16x16x3 patch** is **flattened** into a **1D vector** of size \\(16 \\times 16 \\times 3 = 768\\).\n",
        "4. This **768-dimensional vector** is then linearly projected (via a fully connected layer) into the same or higher dimensional space (in the base model, it's kept at 768).\n",
        "5. The resulting sequence of **196 patch embeddings** (each of size 768) is fed into the transformer.\n",
        "\n"
      ],
      "metadata": {
        "id": "QFRlE8qAQRph"
      }
    },
    {
      "cell_type": "markdown",
      "source": [
        "### In Practice:\n",
        "\n",
        "- Some models like **\"Hybrid ViTs\"** actually use **ConvNets as a feature extractor** before passing the features to the transformer. These models combine the strengths of **CNNs (local feature extraction)** and **transformers (global attention)**.\n",
        "\n",
        "- In the case of our Conv2D configuration:\n",
        "\n",
        "  - **Kernel Size**: \\(4\\)\n",
        "  - **Stride**: \\(4\\)\n",
        "  - **Input Channels**: \\(1\\) (since it's a grayscale image, as in MNIST)\n",
        "  - **Output Channels**: \\(16\\)\n",
        "\n",
        "### Conv2D Output Shape and Patch Size:\n",
        "\n",
        "1. **Patch Size of 4x4x16**:\n",
        "   - The **Conv2D layer** is using a **kernel size of \\(4 x 4\\)** with a **stride of 4**, so it is effectively dividing the input image into **non-overlapping patches** of size \\(4 x 4\\).\n",
        "   - Each of these \\(4 x 4\\) patches is processed independently to produce **16 feature maps (channels)** per patch (since the output channels = 16).\n",
        "\n",
        "2. **Conv2D Output Calculation**:\n",
        "   - The input image size is \\(28 x 28\\).\n",
        "   - Using the Conv2D formula for the output size:\n",
        "\n",
        "  $\n",
        "  \\text{Output Size} = \\frac{\\text{Input Size} - \\text{Kernel Size} + \\text {2 x Padding}}{\\text{Stride}} + 1\n",
        "  $\n",
        "\n",
        "  For both height and width:\n",
        "\n",
        "  $\n",
        "  \\text{Output Size} = \\frac{28 - 4}{4} + 1 = \\frac{24}{4} + 1 = 6 + 1 = 7\n",
        "  $\n",
        "\n",
        "  Thus, the Conv2D layer breaks the image into **7x7 grid of 16-dimensional feature vectors**."
      ],
      "metadata": {
        "id": "7r0T2hsdMEK-"
      }
    },
    {
      "cell_type": "markdown",
      "source": [
        "### nn.Flatten(start_dim=2):\n",
        "\n",
        "- The **`Flatten(start_dim=2)`** layer flattens the output starting from the second dimension. In other words, it combines the spatial dimensions (height and width) of the feature map into a single dimension.\n",
        "  \n",
        "- The output shape after **Conv2D** is **(Batch Size, embed_dim, 7, 7)**, representing the number of patches and their embeddings.\n",
        "\n",
        "- **`Flatten(start_dim=2)`** flattens the last two dimensions (7, 7), making the output:\n",
        "  $\n",
        "  (\\text{Batch Size}, \\text{embed_dim}, 7 \\times 7) = (\\text{Batch Size}, \\text{embed_dim}, 49)\n",
        "  $\n",
        "\n",
        "- The output dimension of our patcher having a shape of (1, 16, 49) implies that:\n",
        "\n",
        "  49 patches were created from the input image. Each patch has been embedded into a 16-dimensional vector."
      ],
      "metadata": {
        "id": "9w9EK_sULTzO"
      }
    },
    {
      "cell_type": "markdown",
      "source": [
        "### [CLS] Token\n",
        "\n",
        "Each patch is transformed into a vector of size `embed_dim` (e.g., `16-dimensional`), and the `[CLS]` token must also have the same dimensionality (i.e., `16-dimensional` in this case) so that it can be concatenated with the patch embeddings.\n",
        "\n",
        "Here’s why:\n",
        "\n",
        "- The self-attention mechanism in the Vision Transformer (ViT) operates on a sequence of tokens where **each token must have the same embedding dimension**. This ensures that the `[CLS]` token can participate equally with the patch tokens during the self-attention computation.\n",
        "  \n",
        "- The `[CLS]` token's purpose is to aggregate information across all patches, so it needs to be in the same space (i.e., same dimensionality) as the patch embeddings. If each patch is represented by a `16-dimensional` vector, the `[CLS]` token must also be a `16-dimensional` vector.\n",
        "\n",
        "For instance:\n",
        "- Each patch embedding: `[batch_size, num_patches, embed_dim]` = `[batch_size, 49, 16]` (assuming `49` patches and `embed_dim=16`)\n",
        "- `[CLS]` token: `[batch_size, 1, embed_dim]` = `[batch_size, 1, 16]`\n",
        "- After concatenation: `[batch_size, num_patches + 1, embed_dim]` = `[batch_size, 50, 16]`\n",
        "\n",
        "This uniform dimension allows the transformer to process the `[CLS]` token and patch embeddings together."
      ],
      "metadata": {
        "id": "5yCWEVhHLYjo"
      }
    },
    {
      "cell_type": "code",
      "source": [
        "class PatchEmbedding(nn.Module):\n",
        "    def __init__(self, embed_dim, patch_size, num_patches, dropout, in_channels):\n",
        "        super().__init__()\n",
        "\n",
        "        # Create patches of (Patch size x Patch size) in the image of (Img size x Img size) with Embed-dim feature vectors\n",
        "        self.patcher = nn.Sequential(\n",
        "            nn.Conv2d(\n",
        "                in_channels=in_channels,\n",
        "                out_channels=embed_dim,\n",
        "                kernel_size=patch_size,\n",
        "                stride=patch_size,\n",
        "            ),\n",
        "            nn.Flatten(start_dim=2)\n",
        "        )\n",
        "\n",
        "        # [CLS] token initialization\n",
        "        self.cls_token = nn.Parameter(torch.randn(size=(1, 1, embed_dim)), requires_grad=True)\n",
        "\n",
        "        # Position Embedding\n",
        "        self.pos_embeddings = nn.Parameter(torch.randn(size=(1, num_patches + 1, embed_dim)), requires_grad=True)\n",
        "\n",
        "        # Dropout\n",
        "        self.dropout = nn.Dropout(p=dropout)\n",
        "\n",
        "    def forward(self, x):\n",
        "        cls_token = self.cls_token.expand(x.shape[0], -1, -1)\n",
        "        x = self.patcher(x).permute(0, 2, 1)\n",
        "        x = torch.cat([cls_token, x], dim=1)\n",
        "        x = self.pos_embeddings + x\n",
        "        x = self.dropout(x)\n",
        "        return x"
      ],
      "metadata": {
        "id": "cnFfESLtCypO"
      },
      "execution_count": 7,
      "outputs": []
    },
    {
      "cell_type": "code",
      "source": [
        "# Test Patch Embedding\n",
        "test_PatchEmbedding = PatchEmbedding(\n",
        "    embed_dim=EMBED_DIM,\n",
        "    patch_size=PATCH_SIZE,\n",
        "    num_patches=NUM_PATCHES,\n",
        "    dropout=DROPOUT,\n",
        "    in_channels=IN_CHANNELS\n",
        ").to(device)\n",
        "\n",
        "x = torch.randn(1, 1, 28, 28).to(device)\n",
        "print(test_PatchEmbedding(x).shape)"
      ],
      "metadata": {
        "colab": {
          "base_uri": "https://localhost:8080/"
        },
        "id": "xBWGak-R2N9F",
        "outputId": "60231d22-ce7e-4f96-c495-d9bf23dc9ac8"
      },
      "execution_count": 8,
      "outputs": [
        {
          "output_type": "stream",
          "name": "stdout",
          "text": [
            "torch.Size([1, 50, 16])\n"
          ]
        }
      ]
    },
    {
      "cell_type": "markdown",
      "source": [
        "## Vision Transformer (ViT)"
      ],
      "metadata": {
        "id": "sX93bqpsMom0"
      }
    },
    {
      "cell_type": "code",
      "source": [
        "class ViT(nn.Module):\n",
        "    def __init__(self, num_patches, num_classes, patch_size, embed_dim, num_encoders, num_heads, hidden_dim, dropout, activation, in_channels):\n",
        "        super().__init__()\n",
        "\n",
        "        # Patch Embedding (Patch + Position)\n",
        "        self.embeddings_block = PatchEmbedding(\n",
        "            embed_dim=embed_dim,\n",
        "            patch_size=patch_size,\n",
        "            num_patches=num_patches,\n",
        "            dropout=dropout,\n",
        "            in_channels=in_channels\n",
        "        )\n",
        "\n",
        "        # Encoder Layer\n",
        "        encoder_layer = nn.TransformerEncoderLayer(\n",
        "            d_model=embed_dim,\n",
        "            nhead=num_heads,\n",
        "            dim_feedforward=hidden_dim,\n",
        "            dropout=dropout,\n",
        "            activation=activation,\n",
        "            batch_first=True,\n",
        "            norm_first=True\n",
        "        )\n",
        "\n",
        "        # Transformer Encoder\n",
        "        self.encoder_block = nn.TransformerEncoder(\n",
        "            encoder_layer=encoder_layer,\n",
        "            num_layers=num_encoders,\n",
        "        )\n",
        "\n",
        "        # MLP Head (Classification Layer)\n",
        "        self.mlp_head = nn.Sequential(\n",
        "            nn.LayerNorm(normalized_shape=embed_dim),\n",
        "            nn.Linear(in_features=embed_dim, out_features=num_classes)\n",
        "        )\n",
        "\n",
        "    def forward(self, x):\n",
        "        x = self.embeddings_block(x)\n",
        "        x = self.encoder_block(x)\n",
        "        x = self.mlp_head(x[:, 0, :])\n",
        "        return x"
      ],
      "metadata": {
        "id": "OwB3zEgh2Zfq"
      },
      "execution_count": 9,
      "outputs": []
    },
    {
      "cell_type": "code",
      "source": [
        "# Test Vit model\n",
        "model = ViT(num_patches = NUM_PATCHES,\n",
        "            num_classes = NUM_CLASSES,\n",
        "            patch_size = PATCH_SIZE,\n",
        "            embed_dim = EMBED_DIM,\n",
        "            num_encoders = NUM_ENCODERS,\n",
        "            num_heads = NUM_HEADS,\n",
        "            hidden_dim = HIDDEN_DIM,\n",
        "            dropout = DROPOUT,\n",
        "            activation = ACTIVATION,\n",
        "            in_channels = IN_CHANNELS).to(device)\n",
        "\n",
        "x = torch.randn(1, 1, 28, 28).to(device)\n",
        "print(model(x).shape)"
      ],
      "metadata": {
        "colab": {
          "base_uri": "https://localhost:8080/"
        },
        "id": "xqk6wAk-DsED",
        "outputId": "b424da9a-3727-40d5-a490-b421eaf36551"
      },
      "execution_count": 10,
      "outputs": [
        {
          "output_type": "stream",
          "name": "stderr",
          "text": [
            "/usr/local/lib/python3.10/dist-packages/torch/nn/modules/transformer.py:307: UserWarning: enable_nested_tensor is True, but self.use_nested_tensor is False because encoder_layer.norm_first was True\n",
            "  warnings.warn(f\"enable_nested_tensor is True, but self.use_nested_tensor is False because {why_not_sparsity_fast_path}\")\n"
          ]
        },
        {
          "output_type": "stream",
          "name": "stdout",
          "text": [
            "torch.Size([1, 10])\n"
          ]
        }
      ]
    },
    {
      "cell_type": "markdown",
      "source": [
        "# Data Preparation (MNIST)"
      ],
      "metadata": {
        "id": "_UCLYZQXGh2w"
      }
    },
    {
      "cell_type": "code",
      "source": [
        "# Image Preprocessing and Augumentation\n",
        "train_transform = transforms.Compose([\n",
        "    transforms.RandomRotation(15),\n",
        "    transforms.ToTensor(),\n",
        "    transforms.Normalize([0.5], [0.5])\n",
        "])\n",
        "\n",
        "test_transform = transforms.Compose([\n",
        "    transforms.ToTensor(),\n",
        "    transforms.Normalize([0.5], [0.5])\n",
        "])"
      ],
      "metadata": {
        "id": "eCzSkQ2DUiDi"
      },
      "execution_count": 11,
      "outputs": []
    },
    {
      "cell_type": "code",
      "source": [
        "# Download the MNIST dataset\n",
        "train_dataset = datasets.MNIST(root='./data', train=True, download=True, transform=train_transform)\n",
        "test_dataset = datasets.MNIST(root='./data', train=False, download=True, transform=test_transform)"
      ],
      "metadata": {
        "colab": {
          "base_uri": "https://localhost:8080/"
        },
        "id": "DAjfiK9uFiZr",
        "outputId": "5dda9a84-69c8-4c4b-ffd3-be2e9d23ea94"
      },
      "execution_count": 12,
      "outputs": [
        {
          "output_type": "stream",
          "name": "stdout",
          "text": [
            "Downloading http://yann.lecun.com/exdb/mnist/train-images-idx3-ubyte.gz\n",
            "Failed to download (trying next):\n",
            "HTTP Error 403: Forbidden\n",
            "\n",
            "Downloading https://ossci-datasets.s3.amazonaws.com/mnist/train-images-idx3-ubyte.gz\n",
            "Downloading https://ossci-datasets.s3.amazonaws.com/mnist/train-images-idx3-ubyte.gz to ./data/MNIST/raw/train-images-idx3-ubyte.gz\n"
          ]
        },
        {
          "output_type": "stream",
          "name": "stderr",
          "text": [
            "100%|██████████| 9912422/9912422 [00:01<00:00, 5072831.09it/s]\n"
          ]
        },
        {
          "output_type": "stream",
          "name": "stdout",
          "text": [
            "Extracting ./data/MNIST/raw/train-images-idx3-ubyte.gz to ./data/MNIST/raw\n",
            "\n",
            "Downloading http://yann.lecun.com/exdb/mnist/train-labels-idx1-ubyte.gz\n",
            "Failed to download (trying next):\n",
            "HTTP Error 403: Forbidden\n",
            "\n",
            "Downloading https://ossci-datasets.s3.amazonaws.com/mnist/train-labels-idx1-ubyte.gz\n",
            "Downloading https://ossci-datasets.s3.amazonaws.com/mnist/train-labels-idx1-ubyte.gz to ./data/MNIST/raw/train-labels-idx1-ubyte.gz\n"
          ]
        },
        {
          "output_type": "stream",
          "name": "stderr",
          "text": [
            "100%|██████████| 28881/28881 [00:00<00:00, 133983.65it/s]\n"
          ]
        },
        {
          "output_type": "stream",
          "name": "stdout",
          "text": [
            "Extracting ./data/MNIST/raw/train-labels-idx1-ubyte.gz to ./data/MNIST/raw\n",
            "\n",
            "Downloading http://yann.lecun.com/exdb/mnist/t10k-images-idx3-ubyte.gz\n",
            "Failed to download (trying next):\n",
            "HTTP Error 403: Forbidden\n",
            "\n",
            "Downloading https://ossci-datasets.s3.amazonaws.com/mnist/t10k-images-idx3-ubyte.gz\n",
            "Downloading https://ossci-datasets.s3.amazonaws.com/mnist/t10k-images-idx3-ubyte.gz to ./data/MNIST/raw/t10k-images-idx3-ubyte.gz\n"
          ]
        },
        {
          "output_type": "stream",
          "name": "stderr",
          "text": [
            "100%|██████████| 1648877/1648877 [00:01<00:00, 1263518.99it/s]\n"
          ]
        },
        {
          "output_type": "stream",
          "name": "stdout",
          "text": [
            "Extracting ./data/MNIST/raw/t10k-images-idx3-ubyte.gz to ./data/MNIST/raw\n",
            "\n",
            "Downloading http://yann.lecun.com/exdb/mnist/t10k-labels-idx1-ubyte.gz\n",
            "Failed to download (trying next):\n",
            "HTTP Error 403: Forbidden\n",
            "\n",
            "Downloading https://ossci-datasets.s3.amazonaws.com/mnist/t10k-labels-idx1-ubyte.gz\n",
            "Downloading https://ossci-datasets.s3.amazonaws.com/mnist/t10k-labels-idx1-ubyte.gz to ./data/MNIST/raw/t10k-labels-idx1-ubyte.gz\n"
          ]
        },
        {
          "output_type": "stream",
          "name": "stderr",
          "text": [
            "100%|██████████| 4542/4542 [00:00<00:00, 4248556.82it/s]"
          ]
        },
        {
          "output_type": "stream",
          "name": "stdout",
          "text": [
            "Extracting ./data/MNIST/raw/t10k-labels-idx1-ubyte.gz to ./data/MNIST/raw\n",
            "\n"
          ]
        },
        {
          "output_type": "stream",
          "name": "stderr",
          "text": [
            "\n"
          ]
        }
      ]
    },
    {
      "cell_type": "code",
      "source": [
        "train_dataset"
      ],
      "metadata": {
        "colab": {
          "base_uri": "https://localhost:8080/"
        },
        "id": "Nrav_NW7TAT8",
        "outputId": "a4564415-34ed-44be-dcfa-dbe1ac337a75"
      },
      "execution_count": 13,
      "outputs": [
        {
          "output_type": "execute_result",
          "data": {
            "text/plain": [
              "Dataset MNIST\n",
              "    Number of datapoints: 60000\n",
              "    Root location: ./data\n",
              "    Split: Train\n",
              "    StandardTransform\n",
              "Transform: Compose(\n",
              "               RandomRotation(degrees=[-15.0, 15.0], interpolation=nearest, expand=False, fill=0)\n",
              "               ToTensor()\n",
              "               Normalize(mean=[0.5], std=[0.5])\n",
              "           )"
            ]
          },
          "metadata": {},
          "execution_count": 13
        }
      ]
    },
    {
      "cell_type": "code",
      "source": [
        "test_dataset"
      ],
      "metadata": {
        "colab": {
          "base_uri": "https://localhost:8080/"
        },
        "id": "l4JGEkWiTHSO",
        "outputId": "a8392855-cb4b-4e68-8756-158f7bb8ee87"
      },
      "execution_count": 14,
      "outputs": [
        {
          "output_type": "execute_result",
          "data": {
            "text/plain": [
              "Dataset MNIST\n",
              "    Number of datapoints: 10000\n",
              "    Root location: ./data\n",
              "    Split: Test\n",
              "    StandardTransform\n",
              "Transform: Compose(\n",
              "               ToTensor()\n",
              "               Normalize(mean=[0.5], std=[0.5])\n",
              "           )"
            ]
          },
          "metadata": {},
          "execution_count": 14
        }
      ]
    },
    {
      "cell_type": "code",
      "source": [
        "# Visualize the dataset\n",
        "img, label = train_dataset[0]\n",
        "plt.imshow(img.squeeze(), cmap='gray')\n",
        "plt.title(f\"Label: {label}\")\n",
        "plt.show()"
      ],
      "metadata": {
        "colab": {
          "base_uri": "https://localhost:8080/",
          "height": 472
        },
        "id": "LZ0rJ-boV9z9",
        "outputId": "5d297ac4-be90-43ef-fc00-85c0a9777a0d"
      },
      "execution_count": 15,
      "outputs": [
        {
          "output_type": "display_data",
          "data": {
            "text/plain": [
              "<Figure size 640x480 with 1 Axes>"
            ],
            "image/png": "[encoded data removed]"
          },
          "metadata": {}
        }
      ]
    },
    {
      "cell_type": "code",
      "source": [
        "# Create data loaders to easily iterate over the dataset\n",
        "train_loader = torch.utils.data.DataLoader(dataset=train_dataset, batch_size=BATCH_SIZE, shuffle=True)\n",
        "test_loader = torch.utils.data.DataLoader(dataset=test_dataset, batch_size=BATCH_SIZE, shuffle=False)"
      ],
      "metadata": {
        "id": "h5zckpNoV1JM"
      },
      "execution_count": 16,
      "outputs": []
    },
    {
      "cell_type": "code",
      "source": [
        "# Example\n",
        "for idx, batch in enumerate(train_loader):\n",
        "    print(batch[0].shape)\n",
        "    print(batch[1].shape)\n",
        "    break"
      ],
      "metadata": {
        "colab": {
          "base_uri": "https://localhost:8080/"
        },
        "id": "g0COlq8KXssY",
        "outputId": "8246dcc0-46d9-4b7c-eae8-e6ca68db9de8"
      },
      "execution_count": 17,
      "outputs": [
        {
          "output_type": "stream",
          "name": "stdout",
          "text": [
            "torch.Size([512, 1, 28, 28])\n",
            "torch.Size([512])\n"
          ]
        }
      ]
    },
    {
      "cell_type": "markdown",
      "source": [
        "# Training Loop"
      ],
      "metadata": {
        "id": "X8isyum9XihD"
      }
    },
    {
      "cell_type": "code",
      "source": [
        "criterion = nn.CrossEntropyLoss()\n",
        "optimizer = optim.Adam(model.parameters(), betas=ADAM_BETAS, lr=LEARNING_RATE, weight_decay=ADAM_WEIGHT_DECAY)\n",
        "\n",
        "start = timeit.default_timer()\n",
        "for epoch in tqdm(range(EPOCHS), position=0, leave=True):\n",
        "    # Training\n",
        "    model.train()\n",
        "    train_labels = []\n",
        "    train_preds = []\n",
        "    train_running_loss = 0\n",
        "\n",
        "    for idx, img_label in enumerate(tqdm(train_loader, position=0, leave=True)):\n",
        "        img = img_label[0].to(device)\n",
        "        label = img_label[1].to(device)\n",
        "        y_pred = model(img)\n",
        "        y_pred_label = torch.argmax(y_pred, dim=1)\n",
        "\n",
        "        train_labels.extend(label.cpu().detach())\n",
        "        train_preds.extend(y_pred_label.cpu().detach())\n",
        "\n",
        "        loss = criterion(y_pred, label)\n",
        "\n",
        "        optimizer.zero_grad()\n",
        "        loss.backward()\n",
        "        optimizer.step()\n",
        "\n",
        "        train_running_loss += loss.item()\n",
        "    train_loss = train_running_loss / (idx + 1)\n",
        "\n",
        "    # Evaluation\n",
        "    model.eval()\n",
        "    val_labels = []\n",
        "    val_preds = []\n",
        "    val_running_loss = 0\n",
        "    with torch.no_grad():\n",
        "        for idx, img_label in enumerate(tqdm(test_loader, position=0, leave=True)):\n",
        "            img = img_label[0].to(device)\n",
        "            label = img_label[1].to(device)\n",
        "            y_pred = model(img)\n",
        "            y_pred_label = torch.argmax(y_pred, dim=1)\n",
        "\n",
        "            val_labels.extend(label.cpu().detach())\n",
        "            val_preds.extend(y_pred_label.cpu().detach())\n",
        "\n",
        "            loss = criterion(y_pred, label)\n",
        "            val_running_loss += loss.item()\n",
        "    val_loss = val_running_loss / (idx + 1)\n",
        "\n",
        "    print(\"-\"*30)\n",
        "    print(f\"Train Loss EPOCH {epoch+1}: {train_loss:.4f}\")\n",
        "    print(f\"Valid Loss EPOCH {epoch+1}: {val_loss:.4f}\")\n",
        "    print(f\"Train Accuracy EPOCH {epoch+1}: {sum(1 for x,y in zip(train_preds, train_labels) if x == y) / len(train_labels):.4f}\")\n",
        "    print(f\"Valid Accuracy EPOCH {epoch+1}: {sum(1 for x,y in zip(val_preds, val_labels) if x == y) / len(val_labels):.4f}\")\n",
        "    print(\"-\"*30)\n",
        "\n",
        "stop = timeit.default_timer()\n",
        "print(f\"Training Time: {stop-start:.2f}s\")"
      ],
      "metadata": {
        "colab": {
          "base_uri": "https://localhost:8080/"
        },
        "id": "IF0wNee_XeKQ",
        "outputId": "dadf164a-2d65-4045-b5ab-5cbb92a9548c"
      },
      "execution_count": 18,
      "outputs": [
        {
          "output_type": "stream",
          "name": "stderr",
          "text": [
            "100%|██████████| 118/118 [00:33<00:00,  3.53it/s]\n",
            "100%|██████████| 20/20 [00:02<00:00,  7.33it/s]\n"
          ]
        },
        {
          "output_type": "stream",
          "name": "stdout",
          "text": [
            "------------------------------\n",
            "Train Loss EPOCH 1: 2.2279\n",
            "Valid Loss EPOCH 1: 1.9386\n"
          ]
        },
        {
          "output_type": "stream",
          "name": "stderr",
          "text": [
            "\r  2%|▎         | 1/40 [00:36<23:39, 36.39s/it]"
          ]
        },
        {
          "output_type": "stream",
          "name": "stdout",
          "text": [
            "Train Accuracy EPOCH 1: 0.1788\n",
            "Valid Accuracy EPOCH 1: 0.3448\n",
            "------------------------------\n"
          ]
        },
        {
          "output_type": "stream",
          "name": "stderr",
          "text": [
            "100%|██████████| 118/118 [00:30<00:00,  3.90it/s]\n",
            "100%|██████████| 20/20 [00:03<00:00,  5.54it/s]\n"
          ]
        },
        {
          "output_type": "stream",
          "name": "stdout",
          "text": [
            "------------------------------\n",
            "Train Loss EPOCH 2: 1.7239\n",
            "Valid Loss EPOCH 2: 1.5526\n"
          ]
        },
        {
          "output_type": "stream",
          "name": "stderr",
          "text": [
            "\r  5%|▌         | 2/40 [01:10<22:11, 35.04s/it]"
          ]
        },
        {
          "output_type": "stream",
          "name": "stdout",
          "text": [
            "Train Accuracy EPOCH 2: 0.4365\n",
            "Valid Accuracy EPOCH 2: 0.5057\n",
            "------------------------------\n"
          ]
        },
        {
          "output_type": "stream",
          "name": "stderr",
          "text": [
            "100%|██████████| 118/118 [00:34<00:00,  3.46it/s]\n",
            "100%|██████████| 20/20 [00:03<00:00,  6.25it/s]\n"
          ]
        },
        {
          "output_type": "stream",
          "name": "stdout",
          "text": [
            "------------------------------\n",
            "Train Loss EPOCH 3: 1.4725\n",
            "Valid Loss EPOCH 3: 1.3221\n"
          ]
        },
        {
          "output_type": "stream",
          "name": "stderr",
          "text": [
            "\r  8%|▊         | 3/40 [01:48<22:22, 36.30s/it]"
          ]
        },
        {
          "output_type": "stream",
          "name": "stdout",
          "text": [
            "Train Accuracy EPOCH 3: 0.5566\n",
            "Valid Accuracy EPOCH 3: 0.6181\n",
            "------------------------------\n"
          ]
        },
        {
          "output_type": "stream",
          "name": "stderr",
          "text": [
            "100%|██████████| 118/118 [00:30<00:00,  3.82it/s]\n",
            "100%|██████████| 20/20 [00:02<00:00,  7.62it/s]\n"
          ]
        },
        {
          "output_type": "stream",
          "name": "stdout",
          "text": [
            "------------------------------\n",
            "Train Loss EPOCH 4: 1.2928\n",
            "Valid Loss EPOCH 4: 1.1147\n"
          ]
        },
        {
          "output_type": "stream",
          "name": "stderr",
          "text": [
            "\r 10%|█         | 4/40 [02:22<21:11, 35.32s/it]"
          ]
        },
        {
          "output_type": "stream",
          "name": "stdout",
          "text": [
            "Train Accuracy EPOCH 4: 0.6272\n",
            "Valid Accuracy EPOCH 4: 0.7064\n",
            "------------------------------\n"
          ]
        },
        {
          "output_type": "stream",
          "name": "stderr",
          "text": [
            "100%|██████████| 118/118 [00:31<00:00,  3.75it/s]\n",
            "100%|██████████| 20/20 [00:02<00:00,  7.53it/s]\n"
          ]
        },
        {
          "output_type": "stream",
          "name": "stdout",
          "text": [
            "------------------------------\n",
            "Train Loss EPOCH 5: 1.1523\n",
            "Valid Loss EPOCH 5: 0.9859\n"
          ]
        },
        {
          "output_type": "stream",
          "name": "stderr",
          "text": [
            "\r 12%|█▎        | 5/40 [02:56<20:24, 34.99s/it]"
          ]
        },
        {
          "output_type": "stream",
          "name": "stdout",
          "text": [
            "Train Accuracy EPOCH 5: 0.6752\n",
            "Valid Accuracy EPOCH 5: 0.7495\n",
            "------------------------------\n"
          ]
        },
        {
          "output_type": "stream",
          "name": "stderr",
          "text": [
            "100%|██████████| 118/118 [00:30<00:00,  3.81it/s]\n",
            "100%|██████████| 20/20 [00:03<00:00,  5.80it/s]\n"
          ]
        },
        {
          "output_type": "stream",
          "name": "stdout",
          "text": [
            "------------------------------\n",
            "Train Loss EPOCH 6: 1.0379\n",
            "Valid Loss EPOCH 6: 0.8887\n"
          ]
        },
        {
          "output_type": "stream",
          "name": "stderr",
          "text": [
            "\r 15%|█▌        | 6/40 [03:31<19:47, 34.93s/it]"
          ]
        },
        {
          "output_type": "stream",
          "name": "stdout",
          "text": [
            "Train Accuracy EPOCH 6: 0.7144\n",
            "Valid Accuracy EPOCH 6: 0.7695\n",
            "------------------------------\n"
          ]
        },
        {
          "output_type": "stream",
          "name": "stderr",
          "text": [
            "100%|██████████| 118/118 [00:31<00:00,  3.76it/s]\n",
            "100%|██████████| 20/20 [00:02<00:00,  7.66it/s]\n"
          ]
        },
        {
          "output_type": "stream",
          "name": "stdout",
          "text": [
            "------------------------------\n",
            "Train Loss EPOCH 7: 0.9491\n",
            "Valid Loss EPOCH 7: 0.8046\n"
          ]
        },
        {
          "output_type": "stream",
          "name": "stderr",
          "text": [
            "\r 18%|█▊        | 7/40 [04:05<19:05, 34.72s/it]"
          ]
        },
        {
          "output_type": "stream",
          "name": "stdout",
          "text": [
            "Train Accuracy EPOCH 7: 0.7406\n",
            "Valid Accuracy EPOCH 7: 0.7920\n",
            "------------------------------\n"
          ]
        },
        {
          "output_type": "stream",
          "name": "stderr",
          "text": [
            "100%|██████████| 118/118 [00:31<00:00,  3.73it/s]\n",
            "100%|██████████| 20/20 [00:02<00:00,  7.51it/s]\n"
          ]
        },
        {
          "output_type": "stream",
          "name": "stdout",
          "text": [
            "------------------------------\n",
            "Train Loss EPOCH 8: 0.8637\n",
            "Valid Loss EPOCH 8: 0.7316\n"
          ]
        },
        {
          "output_type": "stream",
          "name": "stderr",
          "text": [
            "\r 20%|██        | 8/40 [04:40<18:29, 34.68s/it]"
          ]
        },
        {
          "output_type": "stream",
          "name": "stdout",
          "text": [
            "Train Accuracy EPOCH 8: 0.7652\n",
            "Valid Accuracy EPOCH 8: 0.8160\n",
            "------------------------------\n"
          ]
        },
        {
          "output_type": "stream",
          "name": "stderr",
          "text": [
            "100%|██████████| 118/118 [00:31<00:00,  3.71it/s]\n",
            "100%|██████████| 20/20 [00:03<00:00,  6.60it/s]\n"
          ]
        },
        {
          "output_type": "stream",
          "name": "stdout",
          "text": [
            "------------------------------\n",
            "Train Loss EPOCH 9: 0.7937\n",
            "Valid Loss EPOCH 9: 0.6533\n"
          ]
        },
        {
          "output_type": "stream",
          "name": "stderr",
          "text": [
            "\r 22%|██▎       | 9/40 [05:15<17:59, 34.83s/it]"
          ]
        },
        {
          "output_type": "stream",
          "name": "stdout",
          "text": [
            "Train Accuracy EPOCH 9: 0.7840\n",
            "Valid Accuracy EPOCH 9: 0.8403\n",
            "------------------------------\n"
          ]
        },
        {
          "output_type": "stream",
          "name": "stderr",
          "text": [
            "100%|██████████| 118/118 [00:31<00:00,  3.77it/s]\n",
            "100%|██████████| 20/20 [00:02<00:00,  6.75it/s]\n"
          ]
        },
        {
          "output_type": "stream",
          "name": "stdout",
          "text": [
            "------------------------------\n",
            "Train Loss EPOCH 10: 0.7394\n",
            "Valid Loss EPOCH 10: 0.5990\n"
          ]
        },
        {
          "output_type": "stream",
          "name": "stderr",
          "text": [
            "\r 25%|██▌       | 10/40 [05:50<17:23, 34.80s/it]"
          ]
        },
        {
          "output_type": "stream",
          "name": "stdout",
          "text": [
            "Train Accuracy EPOCH 10: 0.7986\n",
            "Valid Accuracy EPOCH 10: 0.8493\n",
            "------------------------------\n"
          ]
        },
        {
          "output_type": "stream",
          "name": "stderr",
          "text": [
            "100%|██████████| 118/118 [00:31<00:00,  3.72it/s]\n",
            "100%|██████████| 20/20 [00:02<00:00,  7.45it/s]\n"
          ]
        },
        {
          "output_type": "stream",
          "name": "stdout",
          "text": [
            "------------------------------\n",
            "Train Loss EPOCH 11: 0.6707\n",
            "Valid Loss EPOCH 11: 0.6573\n"
          ]
        },
        {
          "output_type": "stream",
          "name": "stderr",
          "text": [
            "\r 28%|██▊       | 11/40 [06:24<16:48, 34.76s/it]"
          ]
        },
        {
          "output_type": "stream",
          "name": "stdout",
          "text": [
            "Train Accuracy EPOCH 11: 0.8195\n",
            "Valid Accuracy EPOCH 11: 0.8207\n",
            "------------------------------\n"
          ]
        },
        {
          "output_type": "stream",
          "name": "stderr",
          "text": [
            "100%|██████████| 118/118 [00:32<00:00,  3.69it/s]\n",
            "100%|██████████| 20/20 [00:02<00:00,  7.39it/s]\n"
          ]
        },
        {
          "output_type": "stream",
          "name": "stdout",
          "text": [
            "------------------------------\n",
            "Train Loss EPOCH 12: 0.6293\n",
            "Valid Loss EPOCH 12: 0.5237\n"
          ]
        },
        {
          "output_type": "stream",
          "name": "stderr",
          "text": [
            "\r 30%|███       | 12/40 [06:59<16:15, 34.83s/it]"
          ]
        },
        {
          "output_type": "stream",
          "name": "stdout",
          "text": [
            "Train Accuracy EPOCH 12: 0.8291\n",
            "Valid Accuracy EPOCH 12: 0.8704\n",
            "------------------------------\n"
          ]
        },
        {
          "output_type": "stream",
          "name": "stderr",
          "text": [
            "100%|██████████| 118/118 [00:30<00:00,  3.86it/s]\n",
            "100%|██████████| 20/20 [00:03<00:00,  5.78it/s]\n"
          ]
        },
        {
          "output_type": "stream",
          "name": "stdout",
          "text": [
            "------------------------------\n",
            "Train Loss EPOCH 13: 0.5789\n",
            "Valid Loss EPOCH 13: 0.4640\n"
          ]
        },
        {
          "output_type": "stream",
          "name": "stderr",
          "text": [
            "\r 32%|███▎      | 13/40 [07:34<15:36, 34.69s/it]"
          ]
        },
        {
          "output_type": "stream",
          "name": "stdout",
          "text": [
            "Train Accuracy EPOCH 13: 0.8423\n",
            "Valid Accuracy EPOCH 13: 0.8841\n",
            "------------------------------\n"
          ]
        },
        {
          "output_type": "stream",
          "name": "stderr",
          "text": [
            "100%|██████████| 118/118 [00:30<00:00,  3.81it/s]\n",
            "100%|██████████| 20/20 [00:02<00:00,  7.38it/s]\n"
          ]
        },
        {
          "output_type": "stream",
          "name": "stdout",
          "text": [
            "------------------------------\n",
            "Train Loss EPOCH 14: 0.5481\n",
            "Valid Loss EPOCH 14: 0.4357\n"
          ]
        },
        {
          "output_type": "stream",
          "name": "stderr",
          "text": [
            "\r 35%|███▌      | 14/40 [08:08<14:56, 34.46s/it]"
          ]
        },
        {
          "output_type": "stream",
          "name": "stdout",
          "text": [
            "Train Accuracy EPOCH 14: 0.8496\n",
            "Valid Accuracy EPOCH 14: 0.8913\n",
            "------------------------------\n"
          ]
        },
        {
          "output_type": "stream",
          "name": "stderr",
          "text": [
            "100%|██████████| 118/118 [00:32<00:00,  3.66it/s]\n",
            "100%|██████████| 20/20 [00:02<00:00,  7.38it/s]\n"
          ]
        },
        {
          "output_type": "stream",
          "name": "stdout",
          "text": [
            "------------------------------\n",
            "Train Loss EPOCH 15: 0.5128\n",
            "Valid Loss EPOCH 15: 0.4133\n"
          ]
        },
        {
          "output_type": "stream",
          "name": "stderr",
          "text": [
            "\r 38%|███▊      | 15/40 [08:43<14:27, 34.70s/it]"
          ]
        },
        {
          "output_type": "stream",
          "name": "stdout",
          "text": [
            "Train Accuracy EPOCH 15: 0.8579\n",
            "Valid Accuracy EPOCH 15: 0.8953\n",
            "------------------------------\n"
          ]
        },
        {
          "output_type": "stream",
          "name": "stderr",
          "text": [
            "100%|██████████| 118/118 [00:31<00:00,  3.78it/s]\n",
            "100%|██████████| 20/20 [00:02<00:00,  6.83it/s]\n"
          ]
        },
        {
          "output_type": "stream",
          "name": "stdout",
          "text": [
            "------------------------------\n",
            "Train Loss EPOCH 16: 0.4889\n",
            "Valid Loss EPOCH 16: 0.3912\n"
          ]
        },
        {
          "output_type": "stream",
          "name": "stderr",
          "text": [
            "\r 40%|████      | 16/40 [09:17<13:50, 34.61s/it]"
          ]
        },
        {
          "output_type": "stream",
          "name": "stdout",
          "text": [
            "Train Accuracy EPOCH 16: 0.8638\n",
            "Valid Accuracy EPOCH 16: 0.8981\n",
            "------------------------------\n"
          ]
        },
        {
          "output_type": "stream",
          "name": "stderr",
          "text": [
            "100%|██████████| 118/118 [00:31<00:00,  3.80it/s]\n",
            "100%|██████████| 20/20 [00:02<00:00,  6.71it/s]\n"
          ]
        },
        {
          "output_type": "stream",
          "name": "stdout",
          "text": [
            "------------------------------\n",
            "Train Loss EPOCH 17: 0.4646\n",
            "Valid Loss EPOCH 17: 0.3943\n"
          ]
        },
        {
          "output_type": "stream",
          "name": "stderr",
          "text": [
            "\r 42%|████▎     | 17/40 [09:52<13:15, 34.57s/it]"
          ]
        },
        {
          "output_type": "stream",
          "name": "stdout",
          "text": [
            "Train Accuracy EPOCH 17: 0.8697\n",
            "Valid Accuracy EPOCH 17: 0.8945\n",
            "------------------------------\n"
          ]
        },
        {
          "output_type": "stream",
          "name": "stderr",
          "text": [
            "100%|██████████| 118/118 [00:30<00:00,  3.81it/s]\n",
            "100%|██████████| 20/20 [00:02<00:00,  7.82it/s]\n"
          ]
        },
        {
          "output_type": "stream",
          "name": "stdout",
          "text": [
            "------------------------------\n",
            "Train Loss EPOCH 18: 0.4450\n",
            "Valid Loss EPOCH 18: 0.3644\n"
          ]
        },
        {
          "output_type": "stream",
          "name": "stderr",
          "text": [
            "\r 45%|████▌     | 18/40 [10:25<12:35, 34.34s/it]"
          ]
        },
        {
          "output_type": "stream",
          "name": "stdout",
          "text": [
            "Train Accuracy EPOCH 18: 0.8740\n",
            "Valid Accuracy EPOCH 18: 0.8996\n",
            "------------------------------\n"
          ]
        },
        {
          "output_type": "stream",
          "name": "stderr",
          "text": [
            "100%|██████████| 118/118 [00:30<00:00,  3.83it/s]\n",
            "100%|██████████| 20/20 [00:02<00:00,  7.04it/s]\n"
          ]
        },
        {
          "output_type": "stream",
          "name": "stdout",
          "text": [
            "------------------------------\n",
            "Train Loss EPOCH 19: 0.4200\n",
            "Valid Loss EPOCH 19: 0.3340\n"
          ]
        },
        {
          "output_type": "stream",
          "name": "stderr",
          "text": [
            "\r 48%|████▊     | 19/40 [10:59<11:58, 34.21s/it]"
          ]
        },
        {
          "output_type": "stream",
          "name": "stdout",
          "text": [
            "Train Accuracy EPOCH 19: 0.8805\n",
            "Valid Accuracy EPOCH 19: 0.9095\n",
            "------------------------------\n"
          ]
        },
        {
          "output_type": "stream",
          "name": "stderr",
          "text": [
            "100%|██████████| 118/118 [00:30<00:00,  3.89it/s]\n",
            "100%|██████████| 20/20 [00:02<00:00,  7.67it/s]\n"
          ]
        },
        {
          "output_type": "stream",
          "name": "stdout",
          "text": [
            "------------------------------\n",
            "Train Loss EPOCH 20: 0.4021\n",
            "Valid Loss EPOCH 20: 0.3225\n"
          ]
        },
        {
          "output_type": "stream",
          "name": "stderr",
          "text": [
            "\r 50%|█████     | 20/40 [11:33<11:18, 33.93s/it]"
          ]
        },
        {
          "output_type": "stream",
          "name": "stdout",
          "text": [
            "Train Accuracy EPOCH 20: 0.8854\n",
            "Valid Accuracy EPOCH 20: 0.9122\n",
            "------------------------------\n"
          ]
        },
        {
          "output_type": "stream",
          "name": "stderr",
          "text": [
            "100%|██████████| 118/118 [00:31<00:00,  3.80it/s]\n",
            "100%|██████████| 20/20 [00:02<00:00,  7.20it/s]\n"
          ]
        },
        {
          "output_type": "stream",
          "name": "stdout",
          "text": [
            "------------------------------\n",
            "Train Loss EPOCH 21: 0.3886\n",
            "Valid Loss EPOCH 21: 0.2994\n"
          ]
        },
        {
          "output_type": "stream",
          "name": "stderr",
          "text": [
            "\r 52%|█████▎    | 21/40 [12:07<10:45, 33.98s/it]"
          ]
        },
        {
          "output_type": "stream",
          "name": "stdout",
          "text": [
            "Train Accuracy EPOCH 21: 0.8880\n",
            "Valid Accuracy EPOCH 21: 0.9176\n",
            "------------------------------\n"
          ]
        },
        {
          "output_type": "stream",
          "name": "stderr",
          "text": [
            "100%|██████████| 118/118 [00:30<00:00,  3.87it/s]\n",
            "100%|██████████| 20/20 [00:02<00:00,  6.88it/s]\n"
          ]
        },
        {
          "output_type": "stream",
          "name": "stdout",
          "text": [
            "------------------------------\n",
            "Train Loss EPOCH 22: 0.3697\n",
            "Valid Loss EPOCH 22: 0.2806\n"
          ]
        },
        {
          "output_type": "stream",
          "name": "stderr",
          "text": [
            "\r 55%|█████▌    | 22/40 [12:40<10:09, 33.89s/it]"
          ]
        },
        {
          "output_type": "stream",
          "name": "stdout",
          "text": [
            "Train Accuracy EPOCH 22: 0.8923\n",
            "Valid Accuracy EPOCH 22: 0.9238\n",
            "------------------------------\n"
          ]
        },
        {
          "output_type": "stream",
          "name": "stderr",
          "text": [
            "100%|██████████| 118/118 [00:30<00:00,  3.86it/s]\n",
            "100%|██████████| 20/20 [00:02<00:00,  7.58it/s]\n"
          ]
        },
        {
          "output_type": "stream",
          "name": "stdout",
          "text": [
            "------------------------------\n",
            "Train Loss EPOCH 23: 0.3575\n",
            "Valid Loss EPOCH 23: 0.2711\n"
          ]
        },
        {
          "output_type": "stream",
          "name": "stderr",
          "text": [
            "\r 57%|█████▊    | 23/40 [13:14<09:34, 33.79s/it]"
          ]
        },
        {
          "output_type": "stream",
          "name": "stdout",
          "text": [
            "Train Accuracy EPOCH 23: 0.8963\n",
            "Valid Accuracy EPOCH 23: 0.9264\n",
            "------------------------------\n"
          ]
        },
        {
          "output_type": "stream",
          "name": "stderr",
          "text": [
            "100%|██████████| 118/118 [00:31<00:00,  3.79it/s]\n",
            "100%|██████████| 20/20 [00:02<00:00,  7.42it/s]\n"
          ]
        },
        {
          "output_type": "stream",
          "name": "stdout",
          "text": [
            "------------------------------\n",
            "Train Loss EPOCH 24: 0.3424\n",
            "Valid Loss EPOCH 24: 0.2833\n"
          ]
        },
        {
          "output_type": "stream",
          "name": "stderr",
          "text": [
            "\r 60%|██████    | 24/40 [13:48<09:01, 33.87s/it]"
          ]
        },
        {
          "output_type": "stream",
          "name": "stdout",
          "text": [
            "Train Accuracy EPOCH 24: 0.9005\n",
            "Valid Accuracy EPOCH 24: 0.9173\n",
            "------------------------------\n"
          ]
        },
        {
          "output_type": "stream",
          "name": "stderr",
          "text": [
            "100%|██████████| 118/118 [00:30<00:00,  3.90it/s]\n",
            "100%|██████████| 20/20 [00:03<00:00,  6.42it/s]\n"
          ]
        },
        {
          "output_type": "stream",
          "name": "stdout",
          "text": [
            "------------------------------\n",
            "Train Loss EPOCH 25: 0.3324\n",
            "Valid Loss EPOCH 25: 0.2535\n"
          ]
        },
        {
          "output_type": "stream",
          "name": "stderr",
          "text": [
            "\r 62%|██████▎   | 25/40 [14:22<08:27, 33.82s/it]"
          ]
        },
        {
          "output_type": "stream",
          "name": "stdout",
          "text": [
            "Train Accuracy EPOCH 25: 0.9022\n",
            "Valid Accuracy EPOCH 25: 0.9300\n",
            "------------------------------\n"
          ]
        },
        {
          "output_type": "stream",
          "name": "stderr",
          "text": [
            "100%|██████████| 118/118 [00:30<00:00,  3.92it/s]\n",
            "100%|██████████| 20/20 [00:02<00:00,  7.69it/s]\n"
          ]
        },
        {
          "output_type": "stream",
          "name": "stdout",
          "text": [
            "------------------------------\n",
            "Train Loss EPOCH 26: 0.3183\n",
            "Valid Loss EPOCH 26: 0.2557\n"
          ]
        },
        {
          "output_type": "stream",
          "name": "stderr",
          "text": [
            "\r 65%|██████▌   | 26/40 [14:55<07:50, 33.58s/it]"
          ]
        },
        {
          "output_type": "stream",
          "name": "stdout",
          "text": [
            "Train Accuracy EPOCH 26: 0.9064\n",
            "Valid Accuracy EPOCH 26: 0.9253\n",
            "------------------------------\n"
          ]
        },
        {
          "output_type": "stream",
          "name": "stderr",
          "text": [
            "100%|██████████| 118/118 [00:31<00:00,  3.78it/s]\n",
            "100%|██████████| 20/20 [00:02<00:00,  7.51it/s]\n"
          ]
        },
        {
          "output_type": "stream",
          "name": "stdout",
          "text": [
            "------------------------------\n",
            "Train Loss EPOCH 27: 0.3124\n",
            "Valid Loss EPOCH 27: 0.2363\n"
          ]
        },
        {
          "output_type": "stream",
          "name": "stderr",
          "text": [
            "\r 68%|██████▊   | 27/40 [15:29<07:18, 33.77s/it]"
          ]
        },
        {
          "output_type": "stream",
          "name": "stdout",
          "text": [
            "Train Accuracy EPOCH 27: 0.9074\n",
            "Valid Accuracy EPOCH 27: 0.9349\n",
            "------------------------------\n"
          ]
        },
        {
          "output_type": "stream",
          "name": "stderr",
          "text": [
            "100%|██████████| 118/118 [00:30<00:00,  3.89it/s]\n",
            "100%|██████████| 20/20 [00:03<00:00,  6.16it/s]\n"
          ]
        },
        {
          "output_type": "stream",
          "name": "stdout",
          "text": [
            "------------------------------\n",
            "Train Loss EPOCH 28: 0.3023\n",
            "Valid Loss EPOCH 28: 0.2348\n"
          ]
        },
        {
          "output_type": "stream",
          "name": "stderr",
          "text": [
            "\r 70%|███████   | 28/40 [16:03<06:45, 33.80s/it]"
          ]
        },
        {
          "output_type": "stream",
          "name": "stdout",
          "text": [
            "Train Accuracy EPOCH 28: 0.9096\n",
            "Valid Accuracy EPOCH 28: 0.9304\n",
            "------------------------------\n"
          ]
        },
        {
          "output_type": "stream",
          "name": "stderr",
          "text": [
            "100%|██████████| 118/118 [00:30<00:00,  3.92it/s]\n",
            "100%|██████████| 20/20 [00:02<00:00,  7.03it/s]\n"
          ]
        },
        {
          "output_type": "stream",
          "name": "stdout",
          "text": [
            "------------------------------\n",
            "Train Loss EPOCH 29: 0.2993\n",
            "Valid Loss EPOCH 29: 0.2216\n"
          ]
        },
        {
          "output_type": "stream",
          "name": "stderr",
          "text": [
            "\r 72%|███████▎  | 29/40 [16:36<06:09, 33.62s/it]"
          ]
        },
        {
          "output_type": "stream",
          "name": "stdout",
          "text": [
            "Train Accuracy EPOCH 29: 0.9107\n",
            "Valid Accuracy EPOCH 29: 0.9364\n",
            "------------------------------\n"
          ]
        },
        {
          "output_type": "stream",
          "name": "stderr",
          "text": [
            "100%|██████████| 118/118 [00:30<00:00,  3.82it/s]\n",
            "100%|██████████| 20/20 [00:02<00:00,  7.75it/s]\n"
          ]
        },
        {
          "output_type": "stream",
          "name": "stdout",
          "text": [
            "------------------------------\n",
            "Train Loss EPOCH 30: 0.2900\n",
            "Valid Loss EPOCH 30: 0.2439\n"
          ]
        },
        {
          "output_type": "stream",
          "name": "stderr",
          "text": [
            "\r 75%|███████▌  | 30/40 [17:10<05:36, 33.67s/it]"
          ]
        },
        {
          "output_type": "stream",
          "name": "stdout",
          "text": [
            "Train Accuracy EPOCH 30: 0.9121\n",
            "Valid Accuracy EPOCH 30: 0.9269\n",
            "------------------------------\n"
          ]
        },
        {
          "output_type": "stream",
          "name": "stderr",
          "text": [
            "100%|██████████| 118/118 [00:30<00:00,  3.86it/s]\n",
            "100%|██████████| 20/20 [00:03<00:00,  6.13it/s]\n"
          ]
        },
        {
          "output_type": "stream",
          "name": "stdout",
          "text": [
            "------------------------------\n",
            "Train Loss EPOCH 31: 0.2900\n",
            "Valid Loss EPOCH 31: 0.2163\n"
          ]
        },
        {
          "output_type": "stream",
          "name": "stderr",
          "text": [
            "\r 78%|███████▊  | 31/40 [17:44<05:04, 33.81s/it]"
          ]
        },
        {
          "output_type": "stream",
          "name": "stdout",
          "text": [
            "Train Accuracy EPOCH 31: 0.9132\n",
            "Valid Accuracy EPOCH 31: 0.9372\n",
            "------------------------------\n"
          ]
        },
        {
          "output_type": "stream",
          "name": "stderr",
          "text": [
            "100%|██████████| 118/118 [00:30<00:00,  3.88it/s]\n",
            "100%|██████████| 20/20 [00:02<00:00,  7.58it/s]\n"
          ]
        },
        {
          "output_type": "stream",
          "name": "stdout",
          "text": [
            "------------------------------\n",
            "Train Loss EPOCH 32: 0.2733\n",
            "Valid Loss EPOCH 32: 0.2007\n"
          ]
        },
        {
          "output_type": "stream",
          "name": "stderr",
          "text": [
            "\r 80%|████████  | 32/40 [18:17<04:29, 33.68s/it]"
          ]
        },
        {
          "output_type": "stream",
          "name": "stdout",
          "text": [
            "Train Accuracy EPOCH 32: 0.9173\n",
            "Valid Accuracy EPOCH 32: 0.9423\n",
            "------------------------------\n"
          ]
        },
        {
          "output_type": "stream",
          "name": "stderr",
          "text": [
            "100%|██████████| 118/118 [00:31<00:00,  3.79it/s]\n",
            "100%|██████████| 20/20 [00:02<00:00,  7.51it/s]\n"
          ]
        },
        {
          "output_type": "stream",
          "name": "stdout",
          "text": [
            "------------------------------\n",
            "Train Loss EPOCH 33: 0.2660\n",
            "Valid Loss EPOCH 33: 0.2074\n"
          ]
        },
        {
          "output_type": "stream",
          "name": "stderr",
          "text": [
            "\r 82%|████████▎ | 33/40 [18:51<03:56, 33.80s/it]"
          ]
        },
        {
          "output_type": "stream",
          "name": "stdout",
          "text": [
            "Train Accuracy EPOCH 33: 0.9190\n",
            "Valid Accuracy EPOCH 33: 0.9401\n",
            "------------------------------\n"
          ]
        },
        {
          "output_type": "stream",
          "name": "stderr",
          "text": [
            "100%|██████████| 118/118 [00:30<00:00,  3.91it/s]\n",
            "100%|██████████| 20/20 [00:03<00:00,  5.45it/s]\n"
          ]
        },
        {
          "output_type": "stream",
          "name": "stdout",
          "text": [
            "------------------------------\n",
            "Train Loss EPOCH 34: 0.2617\n",
            "Valid Loss EPOCH 34: 0.2070\n"
          ]
        },
        {
          "output_type": "stream",
          "name": "stderr",
          "text": [
            "\r 85%|████████▌ | 34/40 [19:26<03:23, 33.89s/it]"
          ]
        },
        {
          "output_type": "stream",
          "name": "stdout",
          "text": [
            "Train Accuracy EPOCH 34: 0.9195\n",
            "Valid Accuracy EPOCH 34: 0.9400\n",
            "------------------------------\n"
          ]
        },
        {
          "output_type": "stream",
          "name": "stderr",
          "text": [
            "100%|██████████| 118/118 [00:31<00:00,  3.77it/s]\n",
            "100%|██████████| 20/20 [00:02<00:00,  7.75it/s]\n"
          ]
        },
        {
          "output_type": "stream",
          "name": "stdout",
          "text": [
            "------------------------------\n",
            "Train Loss EPOCH 35: 0.2621\n",
            "Valid Loss EPOCH 35: 0.2014\n"
          ]
        },
        {
          "output_type": "stream",
          "name": "stderr",
          "text": [
            "\r 88%|████████▊ | 35/40 [20:00<02:49, 33.96s/it]"
          ]
        },
        {
          "output_type": "stream",
          "name": "stdout",
          "text": [
            "Train Accuracy EPOCH 35: 0.9201\n",
            "Valid Accuracy EPOCH 35: 0.9425\n",
            "------------------------------\n"
          ]
        },
        {
          "output_type": "stream",
          "name": "stderr",
          "text": [
            "100%|██████████| 118/118 [00:33<00:00,  3.51it/s]\n",
            "100%|██████████| 20/20 [00:04<00:00,  4.63it/s]\n"
          ]
        },
        {
          "output_type": "stream",
          "name": "stdout",
          "text": [
            "------------------------------\n",
            "Train Loss EPOCH 36: 0.2520\n",
            "Valid Loss EPOCH 36: 0.1878\n"
          ]
        },
        {
          "output_type": "stream",
          "name": "stderr",
          "text": [
            "\r 90%|█████████ | 36/40 [20:38<02:21, 35.36s/it]"
          ]
        },
        {
          "output_type": "stream",
          "name": "stdout",
          "text": [
            "Train Accuracy EPOCH 36: 0.9237\n",
            "Valid Accuracy EPOCH 36: 0.9436\n",
            "------------------------------\n"
          ]
        },
        {
          "output_type": "stream",
          "name": "stderr",
          "text": [
            "100%|██████████| 118/118 [00:35<00:00,  3.29it/s]\n",
            "100%|██████████| 20/20 [00:02<00:00,  6.70it/s]\n"
          ]
        },
        {
          "output_type": "stream",
          "name": "stdout",
          "text": [
            "------------------------------\n",
            "Train Loss EPOCH 37: 0.2492\n",
            "Valid Loss EPOCH 37: 0.1848\n"
          ]
        },
        {
          "output_type": "stream",
          "name": "stderr",
          "text": [
            "\r 92%|█████████▎| 37/40 [21:17<01:49, 36.51s/it]"
          ]
        },
        {
          "output_type": "stream",
          "name": "stdout",
          "text": [
            "Train Accuracy EPOCH 37: 0.9241\n",
            "Valid Accuracy EPOCH 37: 0.9475\n",
            "------------------------------\n"
          ]
        },
        {
          "output_type": "stream",
          "name": "stderr",
          "text": [
            "100%|██████████| 118/118 [00:37<00:00,  3.15it/s]\n",
            "100%|██████████| 20/20 [00:03<00:00,  6.36it/s]\n"
          ]
        },
        {
          "output_type": "stream",
          "name": "stdout",
          "text": [
            "------------------------------\n",
            "Train Loss EPOCH 38: 0.2440\n",
            "Valid Loss EPOCH 38: 0.2123\n"
          ]
        },
        {
          "output_type": "stream",
          "name": "stderr",
          "text": [
            "\r 95%|█████████▌| 38/40 [21:59<01:15, 37.86s/it]"
          ]
        },
        {
          "output_type": "stream",
          "name": "stdout",
          "text": [
            "Train Accuracy EPOCH 38: 0.9254\n",
            "Valid Accuracy EPOCH 38: 0.9353\n",
            "------------------------------\n"
          ]
        },
        {
          "output_type": "stream",
          "name": "stderr",
          "text": [
            "100%|██████████| 118/118 [00:35<00:00,  3.30it/s]\n",
            "100%|██████████| 20/20 [00:03<00:00,  6.40it/s]\n"
          ]
        },
        {
          "output_type": "stream",
          "name": "stdout",
          "text": [
            "------------------------------\n",
            "Train Loss EPOCH 39: 0.2341\n",
            "Valid Loss EPOCH 39: 0.1839\n"
          ]
        },
        {
          "output_type": "stream",
          "name": "stderr",
          "text": [
            "\r 98%|█████████▊| 39/40 [22:38<00:38, 38.30s/it]"
          ]
        },
        {
          "output_type": "stream",
          "name": "stdout",
          "text": [
            "Train Accuracy EPOCH 39: 0.9287\n",
            "Valid Accuracy EPOCH 39: 0.9440\n",
            "------------------------------\n"
          ]
        },
        {
          "output_type": "stream",
          "name": "stderr",
          "text": [
            "100%|██████████| 118/118 [00:32<00:00,  3.67it/s]\n",
            "100%|██████████| 20/20 [00:02<00:00,  7.16it/s]\n"
          ]
        },
        {
          "output_type": "stream",
          "name": "stdout",
          "text": [
            "------------------------------\n",
            "Train Loss EPOCH 40: 0.2291\n",
            "Valid Loss EPOCH 40: 0.1809\n"
          ]
        },
        {
          "output_type": "stream",
          "name": "stderr",
          "text": [
            "100%|██████████| 40/40 [23:13<00:00, 34.84s/it]"
          ]
        },
        {
          "output_type": "stream",
          "name": "stdout",
          "text": [
            "Train Accuracy EPOCH 40: 0.9299\n",
            "Valid Accuracy EPOCH 40: 0.9472\n",
            "------------------------------\n",
            "Training Time: 1393.56s\n"
          ]
        },
        {
          "output_type": "stream",
          "name": "stderr",
          "text": [
            "\n"
          ]
        }
      ]
    },
    {
      "cell_type": "code",
      "source": [
        "torch.cuda.empty_cache()"
      ],
      "metadata": {
        "id": "pYTzudOXbOxm"
      },
      "execution_count": 19,
      "outputs": []
    },
    {
      "cell_type": "markdown",
      "source": [
        "# Inference"
      ],
      "metadata": {
        "id": "KNdnfEo3b5Bq"
      }
    },
    {
      "cell_type": "code",
      "source": [
        "img, label = test_dataset[0]\n",
        "\n",
        "# Inference\n",
        "model.eval()\n",
        "with torch.no_grad():\n",
        "    img = img.unsqueeze(0).to(device)\n",
        "    y_pred = model(img)\n",
        "    y_pred_label = torch.argmax(y_pred, dim=1)\n",
        "\n",
        "# Visualize\n",
        "plt.imshow(img.squeeze().cpu().detach(), cmap='gray')\n",
        "plt.title(f\"Label: {label}, Prediction: {y_pred_label.item()}\")\n",
        "plt.show()"
      ],
      "metadata": {
        "colab": {
          "base_uri": "https://localhost:8080/",
          "height": 472
        },
        "id": "E-d62_3Vb4TA",
        "outputId": "4ebd7400-d07d-4837-dfa8-0aed2e37c1ca"
      },
      "execution_count": 20,
      "outputs": [
        {
          "output_type": "display_data",
          "data": {
            "text/plain": [
              "<Figure size 640x480 with 1 Axes>"
            ],
            "image/png": "[encoded data removed]"
          },
          "metadata": {}
        }
      ]
    },
    {
      "cell_type": "code",
      "source": [
        "# Let's inference for 6 images\n",
        "model.eval()\n",
        "\n",
        "# Set up the plot\n",
        "fig, axs = plt.subplots(2, 3, figsize=(10, 7))  # Create a 2x3 grid for 6 images\n",
        "\n",
        "# Loop through 6 images in the test dataset\n",
        "for i in range(6):\n",
        "    img, label = test_dataset[i+1]  # Get the i-th image and its label\n",
        "\n",
        "    # Inference\n",
        "    with torch.no_grad():\n",
        "        img_input = img.unsqueeze(0).to(device)  # Add batch dimension and move to device (e.g., GPU)\n",
        "        y_pred = model(img_input)  # Make prediction\n",
        "        y_pred_label = torch.argmax(y_pred, dim=1)  # Get predicted label\n",
        "\n",
        "    # Plot the image in the grid\n",
        "    ax = axs[i // 3, i % 3]  # Subplot index management\n",
        "    ax.imshow(img.squeeze().cpu().detach(), cmap='gray')  # Show image in grayscale\n",
        "    ax.set_title(f\"Label: {label}, Pred: {y_pred_label.item()}\")\n",
        "    ax.axis('off')  # Turn off the axis labels\n",
        "\n",
        "# Adjust layout so the titles and images don't overlap\n",
        "plt.tight_layout()\n",
        "plt.show()"
      ],
      "metadata": {
        "colab": {
          "base_uri": "https://localhost:8080/",
          "height": 730
        },
        "id": "mfvTb0tggyzN",
        "outputId": "799104d5-1049-487b-cd22-080501fcbeae"
      },
      "execution_count": 21,
      "outputs": [
        {
          "output_type": "display_data",
          "data": {
            "text/plain": [
              "<Figure size 1000x700 with 6 Axes>"
            ],
            "image/png": "[encoded data removed]"
          },
          "metadata": {}
        }
      ]
    },
    {
      "cell_type": "markdown",
      "source": [
        "We successfully built a Vision Transformer (ViT) from scratch and trained it for 40 epochs. The model achieved a training accuracy of 92.99% and a validation accuracy of 94.72%. After making several inferences, we observed that the model predicted all samples correctly, indicating that it is well-trained and generalizes effectively on unseen data."
      ],
      "metadata": {
        "id": "ZWIipe9yis-r"
      }
    },
    {
      "cell_type": "markdown",
      "source": [
        "# References\n",
        "\n",
        "1. **Dosovitskiy, A., et al.** (2020). *An Image is Worth 16x16 Words: Transformers for Image Recognition at Scale*. arXiv. Available at: [https://arxiv.org/abs/2010.11929](https://arxiv.org/abs/2010.11929)\n",
        "\n",
        "2. **Video Implementation** (2023). *Implement and Train ViT From Scratch for Image Recognition - PyTorch*. YouTube. Available at: [https://youtu.be/Vonyoz6Yt9c?si=jquplbntSfNrhrJU](https://youtu.be/Vonyoz6Yt9c?si=jquplbntSfNrhrJU)\n",
        "\n",
        "3. **Kurt, U.** (2023). *ViT-PyTorch: A PyTorch Implementation of Vision Transformers*. GitHub repository. Available at: [https://github.com/uygarkurt/ViT-PyTorch](https://github.com/uygarkurt/ViT-PyTorch)\n"
      ],
      "metadata": {
        "id": "zduXFHb3ho0P"
      }
    }
  ]
}